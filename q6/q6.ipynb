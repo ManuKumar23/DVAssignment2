{
 "cells": [
  {
   "cell_type": "code",
   "execution_count": 2,
   "id": "819897b0-0b35-4447-9cd1-50e030ddd6d9",
   "metadata": {},
   "outputs": [
    {
     "name": "stdout",
     "output_type": "stream",
     "text": [
      "Weather Information for London:\n",
      "Temperature: 8.1°C\n",
      "Wind Speed: 14.8 km/h\n",
      "Weather Code: 3\n"
     ]
    }
   ],
   "source": [
    "import requests\n",
    "import xml.etree.ElementTree as ET\n",
    "\n",
    "def get_weather_data(city_name, latitude, longitude):\n",
    "    \"\"\"\n",
    "    Fetches weather data for a given city using Open-Meteo API (converted to XML format).\n",
    "    \n",
    "    Args:\n",
    "    city_name (str): Name of the city to fetch weather data for.\n",
    "    latitude (float): Latitude of the city.\n",
    "    longitude (float): Longitude of the city.\n",
    "    \"\"\"\n",
    "    # Open-Meteo API endpoint (retrieves JSON but adapted here for XML-like response)\n",
    "    api_url = f\"https://api.open-meteo.com/v1/forecast?latitude={latitude}&longitude={longitude}&current_weather=true\"\n",
    "    \n",
    "    try:\n",
    "        # Send a GET request to the API\n",
    "        response = requests.get(api_url)\n",
    "        response.raise_for_status()  # Raise an exception for HTTP errors\n",
    "        \n",
    "        # Parse JSON response\n",
    "        weather_data = response.json()\n",
    "        current_weather = weather_data['current_weather']\n",
    "        \n",
    "        # Convert JSON to XML format (mimicking XML API output)\n",
    "        weather_xml = f\"\"\"\n",
    "        <weather>\n",
    "            <location>\n",
    "                <name>{city_name}</name>\n",
    "            </location>\n",
    "            <current>\n",
    "                <temperature>{current_weather['temperature']}</temperature>\n",
    "                <windspeed>{current_weather['windspeed']}</windspeed>\n",
    "                <weathercode>{current_weather['weathercode']}</weathercode>\n",
    "            </current>\n",
    "        </weather>\n",
    "        \"\"\"\n",
    "        \n",
    "        # Parse the generated XML string\n",
    "        root = ET.fromstring(weather_xml)\n",
    "        \n",
    "        # Extract data from the XML\n",
    "        name = root.find('location/name').text\n",
    "        temperature = root.find('current/temperature').text\n",
    "        windspeed = root.find('current/windspeed').text\n",
    "        weathercode = root.find('current/weathercode').text\n",
    "        \n",
    "        # Display results\n",
    "        print(f\"Weather Information for {name}:\")\n",
    "        print(f\"Temperature: {temperature}°C\")\n",
    "        print(f\"Wind Speed: {windspeed} km/h\")\n",
    "        print(f\"Weather Code: {weathercode}\")\n",
    "    \n",
    "    except requests.exceptions.RequestException as e:\n",
    "        print(f\"Error fetching data: {e}\")\n",
    "    except ET.ParseError as e:\n",
    "        print(f\"Error parsing XML: {e}\")\n",
    "\n",
    "# Example usage\n",
    "if __name__ == \"__main__\":\n",
    "    # Replace with desired city and coordinates\n",
    "    city_name = \"London\"\n",
    "    latitude = 51.5074\n",
    "    longitude = -0.1278\n",
    "    get_weather_data(city_name, latitude, longitude)\n"
   ]
  },
  {
   "cell_type": "code",
   "execution_count": null,
   "id": "45cac5cd-e191-48ef-9fe5-599230b9aa73",
   "metadata": {},
   "outputs": [],
   "source": []
  }
 ],
 "metadata": {
  "kernelspec": {
   "display_name": "Python 3 (ipykernel)",
   "language": "python",
   "name": "python3"
  },
  "language_info": {
   "codemirror_mode": {
    "name": "ipython",
    "version": 3
   },
   "file_extension": ".py",
   "mimetype": "text/x-python",
   "name": "python",
   "nbconvert_exporter": "python",
   "pygments_lexer": "ipython3",
   "version": "3.12.7"
  }
 },
 "nbformat": 4,
 "nbformat_minor": 5
}
