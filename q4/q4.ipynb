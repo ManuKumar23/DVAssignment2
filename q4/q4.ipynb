{
 "cells": [
  {
   "cell_type": "code",
   "execution_count": 14,
   "id": "b945af7f-5105-4191-9673-2a9158c357f3",
   "metadata": {},
   "outputs": [
    {
     "name": "stdout",
     "output_type": "stream",
     "text": [
      "Collecting folium\n",
      "  Downloading folium-0.19.2-py2.py3-none-any.whl.metadata (3.8 kB)\n",
      "Collecting branca>=0.6.0 (from folium)\n",
      "  Downloading branca-0.8.1-py3-none-any.whl.metadata (1.5 kB)\n",
      "Requirement already satisfied: jinja2>=2.9 in c:\\users\\manuk\\anaconda3\\lib\\site-packages (from folium) (3.1.4)\n",
      "Requirement already satisfied: numpy in c:\\users\\manuk\\anaconda3\\lib\\site-packages (from folium) (1.26.4)\n",
      "Requirement already satisfied: requests in c:\\users\\manuk\\anaconda3\\lib\\site-packages (from folium) (2.32.3)\n",
      "Requirement already satisfied: xyzservices in c:\\users\\manuk\\anaconda3\\lib\\site-packages (from folium) (2022.9.0)\n",
      "Requirement already satisfied: MarkupSafe>=2.0 in c:\\users\\manuk\\anaconda3\\lib\\site-packages (from jinja2>=2.9->folium) (2.1.3)\n",
      "Requirement already satisfied: charset-normalizer<4,>=2 in c:\\users\\manuk\\anaconda3\\lib\\site-packages (from requests->folium) (3.3.2)\n",
      "Requirement already satisfied: idna<4,>=2.5 in c:\\users\\manuk\\anaconda3\\lib\\site-packages (from requests->folium) (3.7)\n",
      "Requirement already satisfied: urllib3<3,>=1.21.1 in c:\\users\\manuk\\anaconda3\\lib\\site-packages (from requests->folium) (2.2.3)\n",
      "Requirement already satisfied: certifi>=2017.4.17 in c:\\users\\manuk\\anaconda3\\lib\\site-packages (from requests->folium) (2024.8.30)\n",
      "Downloading folium-0.19.2-py2.py3-none-any.whl (110 kB)\n",
      "Downloading branca-0.8.1-py3-none-any.whl (26 kB)\n",
      "Installing collected packages: branca, folium\n",
      "Successfully installed branca-0.8.1 folium-0.19.2\n",
      "Note: you may need to restart the kernel to use updated packages.\n"
     ]
    }
   ],
   "source": [
    "pip install folium"
   ]
  },
  {
   "cell_type": "code",
   "execution_count": 15,
   "id": "d1df83ec-1336-4a69-8f89-fb36a09471e2",
   "metadata": {},
   "outputs": [],
   "source": [
    "import networkx as nx\n",
    "import folium\n",
    "import geopandas as gpd\n",
    "from folium.plugins import MarkerCluster\n",
    "\n",
    "# Function to create a network of nodes (locations) and edges (connections)\n",
    "def create_network():\n",
    "    # Define a list of locations (nodes) with latitude and longitude\n",
    "    locations = {\n",
    "        \"A\": (51.5074, -0.1278),  # London\n",
    "        \"B\": (48.8566, 2.3522),   # Paris\n",
    "        \"C\": (40.7128, -74.0060), # New York\n",
    "        \"D\": (34.0522, -118.2437), # Los Angeles\n",
    "        \"E\": (52.52, 13.4050)     # Berlin\n",
    "    }\n",
    "\n",
    "    # Create a graph\n",
    "    G = nx.Graph()\n",
    "\n",
    "    # Add nodes with location data\n",
    "    for city, (lat, lon) in locations.items():\n",
    "        G.add_node(city, pos=(lat, lon))\n",
    "\n",
    "    # Add edges (connections) between cities\n",
    "    G.add_edge(\"A\", \"B\", weight=10)\n",
    "    G.add_edge(\"A\", \"C\", weight=5)\n",
    "    G.add_edge(\"B\", \"D\", weight=8)\n",
    "    G.add_edge(\"C\", \"E\", weight=12)\n",
    "    G.add_edge(\"D\", \"E\", weight=7)\n",
    "\n",
    "    return G, locations\n",
    "\n",
    "# Function to plot the network and its connections on a folium map\n",
    "def plot_network_on_map(G, locations):\n",
    "    # Create a map centered around the mean location of the nodes\n",
    "    map_center = [sum(lat for lat, lon in locations.values()) / len(locations),\n",
    "                  sum(lon for lat, lon in locations.values()) / len(locations)]\n",
    "    m = folium.Map(location=map_center, zoom_start=2)\n",
    "\n",
    "    # Create a marker cluster for the locations\n",
    "    marker_cluster = MarkerCluster().add_to(m)\n",
    "\n",
    "    # Add city locations as markers on the map\n",
    "    for city, (lat, lon) in locations.items():\n",
    "        folium.Marker([lat, lon], popup=city).add_to(marker_cluster)\n",
    "\n",
    "    # Add edges (lines) between cities based on the network's connections\n",
    "    for node1, node2, data in G.edges(data=True):\n",
    "        lat1, lon1 = locations[node1]\n",
    "        lat2, lon2 = locations[node2]\n",
    "        folium.PolyLine([(lat1, lon1), (lat2, lon2)], color=\"blue\", weight=2).add_to(m)\n",
    "\n",
    "    # Return the map object to display\n",
    "    return m\n",
    "\n",
    "# Main function to run the script\n",
    "if __name__ == \"__main__\":\n",
    "    # Create the network graph\n",
    "    G, locations = create_network()\n",
    "    \n",
    "    # Plot the network on a folium map\n",
    "    map_with_network = plot_network_on_map(G, locations)\n",
    "    \n",
    "    # Save the map as an HTML file\n",
    "    map_with_network.save(\"network_map.html\")\n"
   ]
  },
  {
   "cell_type": "code",
   "execution_count": null,
   "id": "2f2a0c98-6cb8-4ad6-86ef-724332ae9e52",
   "metadata": {},
   "outputs": [],
   "source": []
  }
 ],
 "metadata": {
  "kernelspec": {
   "display_name": "Python 3 (ipykernel)",
   "language": "python",
   "name": "python3"
  },
  "language_info": {
   "codemirror_mode": {
    "name": "ipython",
    "version": 3
   },
   "file_extension": ".py",
   "mimetype": "text/x-python",
   "name": "python",
   "nbconvert_exporter": "python",
   "pygments_lexer": "ipython3",
   "version": "3.12.7"
  }
 },
 "nbformat": 4,
 "nbformat_minor": 5
}
